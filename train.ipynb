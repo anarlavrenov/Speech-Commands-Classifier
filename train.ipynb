{
  "nbformat": 4,
  "nbformat_minor": 0,
  "metadata": {
    "colab": {
      "provenance": [],
      "gpuType": "T4",
      "authorship_tag": "ABX9TyNz8oJU8f9VdPUjG/DGEC4g",
      "include_colab_link": true
    },
    "kernelspec": {
      "name": "python3",
      "display_name": "Python 3"
    },
    "language_info": {
      "name": "python"
    },
    "accelerator": "GPU"
  },
  "cells": [
    {
      "cell_type": "markdown",
      "metadata": {
        "id": "view-in-github",
        "colab_type": "text"
      },
      "source": [
        "<a href=\"https://colab.research.google.com/github/anarlavrenov/Speech-Commands-Classifier/blob/main/train.ipynb\" target=\"_parent\"><img src=\"https://colab.research.google.com/assets/colab-badge.svg\" alt=\"Open In Colab\"/></a>"
      ]
    },
    {
      "cell_type": "code",
      "execution_count": 1,
      "metadata": {
        "id": "TuPVxcmOe7WG",
        "collapsed": true
      },
      "outputs": [],
      "source": [
        "import torch\n",
        "import torchaudio\n",
        "from IPython.display import Audio\n",
        "\n",
        "import matplotlib.pyplot as plt\n",
        "from tqdm import tqdm\n",
        "from sklearn.metrics import classification_report\n",
        "import warnings\n",
        "\n",
        "warnings.filterwarnings(\"ignore\", category=UserWarning)\n",
        "device = \"cuda\" if torch.cuda.is_available() else \"cpu\""
      ]
    },
    {
      "cell_type": "code",
      "source": [
        "train_dataset = torchaudio.datasets.SPEECHCOMMANDS(root=\".\", subset=\"training\", download=True)\n",
        "valid_dataset = torchaudio.datasets.SPEECHCOMMANDS(root=\".\", subset=\"validation\", download=True)\n",
        "test_dataset = torchaudio.datasets.SPEECHCOMMANDS(root=\".\", subset=\"testing\", download=True)"
      ],
      "metadata": {
        "id": "Lj48p6d0AEZ9",
        "colab": {
          "base_uri": "https://localhost:8080/"
        },
        "outputId": "510b7f25-4657-4c6a-f222-1db587db255a"
      },
      "execution_count": 2,
      "outputs": [
        {
          "output_type": "stream",
          "name": "stderr",
          "text": [
            "100%|██████████| 2.26G/2.26G [00:24<00:00, 98.2MB/s]\n"
          ]
        }
      ]
    },
    {
      "cell_type": "code",
      "source": [
        "labels_list = ['backward', 'bed', 'bird', 'cat', 'dog', 'down', 'eight', 'five',\n",
        "          'follow', 'forward', 'four', 'go', 'happy', 'house', 'learn', 'left',\n",
        "          'marvin', 'nine', 'no', 'off', 'on', 'one', 'right', 'seven', 'sheila',\n",
        "          'six', 'stop', 'three', 'tree', 'two', 'up', 'visual', 'wow', 'yes', 'zero']"
      ],
      "metadata": {
        "id": "kutfQqq4By-H"
      },
      "execution_count": 3,
      "outputs": []
    },
    {
      "cell_type": "code",
      "source": [
        "def transform_to_spectrogram(waveform):\n",
        "  waveform = torch.tensor(waveform, dtype=torch.float32)\n",
        "\n",
        "  if waveform.ndim > 1:\n",
        "    waveform = torch.squeeze(waveform, dim=0)\n",
        "\n",
        "  spectrogram = torchaudio.transforms.Spectrogram(\n",
        "      n_fft=384,\n",
        "      win_length=256,\n",
        "      hop_length=160,\n",
        "      power=None\n",
        "  )(waveform).transpose(1, 0)\n",
        "\n",
        "  spectrogram = torch.abs(spectrogram)\n",
        "  spectrogram = torch.pow(spectrogram, 0.5)\n",
        "\n",
        "  means = torch.mean(spectrogram, dim=1, keepdim=True)\n",
        "  stddevs = torch.std(spectrogram, dim=1, keepdim=True)\n",
        "  spectrogram = (spectrogram - means) / (stddevs + 1e-10)\n",
        "\n",
        "  return spectrogram  # timeframes, n_mels\n",
        "\n",
        "def plot_spectrogram(spectrogram):\n",
        "  if spectrogram.dtype == torch.float:\n",
        "    spectrogram = spectrogram.cpu().detach().numpy()\n",
        "\n",
        "  spectrogram = spectrogram.transpose(1, 0) # n_mels, timeframes\n",
        "\n",
        "  fig, ax = plt.subplots(1, 1, figsize=(12, 3))\n",
        "  im1 = ax.imshow(spectrogram, aspect=\"auto\", origin=\"lower\", interpolation=\"none\")\n",
        "  plt.colorbar(im1, ax=ax)\n",
        "  plt.tight_layout()\n",
        "  plt.show()"
      ],
      "metadata": {
        "id": "wFUe2j1ZYQ-a"
      },
      "execution_count": 4,
      "outputs": []
    },
    {
      "cell_type": "code",
      "source": [
        "def collate_fn(batch, max_duration=5, sample_rate=16000):\n",
        "\n",
        "  filtered_batch = []\n",
        "\n",
        "  for waveform, rate, label, *_ in batch:\n",
        "    duration = len(waveform) / sample_rate\n",
        "    if duration <= max_duration:\n",
        "      filtered_batch.append((waveform, label))\n",
        "\n",
        "  waveforms, labels = zip(*filtered_batch)\n",
        "  batch_size = len(labels)\n",
        "\n",
        "  spectrograms = [transform_to_spectrogram(wf) for wf in waveforms]\n",
        "  max_spec_length = max([spec.shape[0] for spec in spectrograms])\n",
        "  n_mels = spectrograms[0].shape[1]\n",
        "\n",
        "  spectrograms_padded = torch.zeros(batch_size, max_spec_length, n_mels, dtype=torch.float32)\n",
        "  for i, spec in enumerate(spectrograms):\n",
        "    spectrograms_padded[i, :spec.shape[0], :] = spec\n",
        "\n",
        "  labels = torch.LongTensor([labels_list.index(label) for label in labels])\n",
        "\n",
        "  return spectrograms_padded, labels"
      ],
      "metadata": {
        "id": "Jo5uvNAUfsAD"
      },
      "execution_count": 5,
      "outputs": []
    },
    {
      "cell_type": "code",
      "source": [
        "def batchify(dataset, batch_size, shuffle=False):\n",
        "  return torch.utils.data.DataLoader(\n",
        "      dataset,\n",
        "      batch_size=batch_size,\n",
        "      shuffle=shuffle,\n",
        "      drop_last=True,\n",
        "      collate_fn=collate_fn\n",
        "      )\n",
        "\n",
        "train_loader = batchify(train_dataset, batch_size=256, shuffle=True)\n",
        "valid_loader = batchify(valid_dataset, batch_size=32, shuffle=False)\n",
        "test_loader = batchify(test_dataset, batch_size=32, shuffle=False)"
      ],
      "metadata": {
        "id": "kFpnODNVhz5z"
      },
      "execution_count": 6,
      "outputs": []
    },
    {
      "cell_type": "code",
      "source": [
        "src = next(iter(valid_loader))[0].to(device)\n",
        "tgt = next(iter(valid_loader))[1].to(device)"
      ],
      "metadata": {
        "id": "P4itrCvOh8nB"
      },
      "execution_count": 7,
      "outputs": []
    },
    {
      "cell_type": "code",
      "source": [
        "print(src[0].shape)\n",
        "plot_spectrogram(src[0])"
      ],
      "metadata": {
        "colab": {
          "base_uri": "https://localhost:8080/",
          "height": 324
        },
        "id": "a9RUCS8jvpvS",
        "outputId": "0e6d0d72-c150-4b33-c15e-e48b05cdf26f"
      },
      "execution_count": 8,
      "outputs": [
        {
          "output_type": "stream",
          "name": "stdout",
          "text": [
            "torch.Size([101, 193])\n"
          ]
        },
        {
          "output_type": "display_data",
          "data": {
            "text/plain": [
              "<Figure size 1200x300 with 2 Axes>"
            ],
            "image/png": "[encoded data removed]"
          },
          "metadata": {}
        }
      ]
    },
    {
      "cell_type": "code",
      "source": [
        "class EmotionClassifierModel(torch.nn.Module):\n",
        "  def __init__(self, output_dim, n_mels=193, n_classes=35):\n",
        "    super(EmotionClassifierModel, self).__init__()\n",
        "\n",
        "    self.conv_block1 = self.conv_block(\n",
        "        in_channels=1,\n",
        "        out_channels=32,\n",
        "        kernel_size=(11, 41),\n",
        "        stride=(2, 2),\n",
        "        padding=(5, 20),\n",
        "        dilation=1,\n",
        "        bias=False\n",
        "    )\n",
        "\n",
        "    self.conv_block2 = self.conv_block(\n",
        "        in_channels=32,\n",
        "        out_channels=32,\n",
        "        kernel_size=(11, 21),\n",
        "        stride=(1, 2),\n",
        "        padding=(5, 10),\n",
        "        dilation=1,\n",
        "        bias=False\n",
        "    )\n",
        "\n",
        "    self.linear_block1 = self.linear_block(\n",
        "        in_features=32 * 49,\n",
        "        out_features=output_dim,\n",
        "        activation=torch.nn.ReLU(),\n",
        "        dropout=True\n",
        "        )\n",
        "\n",
        "    self.linear_block2 = self.linear_block(\n",
        "        in_features=output_dim,\n",
        "        out_features=n_classes,\n",
        "        activation=None,\n",
        "        dropout=False\n",
        "        )\n",
        "\n",
        "  def forward(self, src):\n",
        "    src = torch.unsqueeze(src, 1)\n",
        "    src = self.conv_block1(src)\n",
        "    src = self.conv_block2(src)\n",
        "\n",
        "    src = src.permute(0, 2, 1, 3)\n",
        "\n",
        "    src = torch.mean(src, dim=1)\n",
        "    src = src.reshape(src.shape[0], src.shape[1] * src.shape[2])\n",
        "\n",
        "    src = self.linear_block1(src)\n",
        "    output = self.linear_block2(src)\n",
        "\n",
        "    return output\n",
        "\n",
        "  def conv_block(self, in_channels, out_channels,\n",
        "                 kernel_size, stride, padding, dilation, bias):\n",
        "    block = torch.nn.Sequential(\n",
        "            torch.nn.Conv2d(\n",
        "                in_channels, out_channels,\n",
        "                kernel_size, stride, padding, dilation, bias=bias\n",
        "            ),\n",
        "            torch.nn.BatchNorm2d(out_channels),\n",
        "            torch.nn.ReLU()\n",
        "    )\n",
        "\n",
        "    torch.nn.init.xavier_uniform_(\n",
        "        block[0].weight,\n",
        "        gain=torch.nn.init.calculate_gain(\"relu\"))\n",
        "\n",
        "    return block\n",
        "\n",
        "  def linear_block(self, in_features, out_features,\n",
        "                   activation=None, dropout=False):\n",
        "    block = torch.nn.Sequential(\n",
        "        torch.nn.Linear(in_features, out_features)\n",
        "    )\n",
        "\n",
        "    if activation is not None:\n",
        "      block.append(activation)\n",
        "    if dropout == True:\n",
        "      block.append(torch.nn.Dropout(0.5))\n",
        "\n",
        "    torch.nn.init.xavier_uniform_(\n",
        "        block[0].weight,\n",
        "        gain=torch.nn.init.calculate_gain(\"linear\"))\n",
        "\n",
        "    return block"
      ],
      "metadata": {
        "id": "3ZuSQutQw6Lc"
      },
      "execution_count": 78,
      "outputs": []
    },
    {
      "cell_type": "code",
      "source": [
        "model = EmotionClassifierModel(\n",
        "    output_dim=256\n",
        ").to(device)"
      ],
      "metadata": {
        "id": "TFatzkx9yOub"
      },
      "execution_count": 80,
      "outputs": []
    },
    {
      "cell_type": "code",
      "source": [
        "criterion = torch.nn.CrossEntropyLoss()\n",
        "optimizer = torch.optim.Adam(model.parameters())"
      ],
      "metadata": {
        "id": "c4dzbFWa39JY"
      },
      "execution_count": null,
      "outputs": []
    },
    {
      "cell_type": "code",
      "source": [
        "def train(loader):\n",
        "  model.train()\n",
        "  total_loss = 0\n",
        "  total_accuracy = 0\n",
        "\n",
        "  for batch in tqdm(loader, desc=\"Training\"):\n",
        "    optimizer.zero_grad()\n",
        "    src, tgt = batch[0].to(device), batch[1].to(device)\n",
        "    outputs = model(src)\n",
        "\n",
        "    loss = criterion(outputs, tgt)\n",
        "    total_loss += loss.item()\n",
        "    accuracy = torch.sum((torch.argmax(outputs, dim=1) == tgt).int()).item() / len(tgt)\n",
        "    total_accuracy += accuracy\n",
        "\n",
        "    loss.backward()\n",
        "    optimizer.step()\n",
        "\n",
        "  return total_loss / len(loader), total_accuracy / len(loader)\n",
        "\n",
        "def evaluate(loader):\n",
        "  model.eval()\n",
        "  total_loss = 0\n",
        "  total_accuracy = 0\n",
        "\n",
        "  with torch.no_grad():\n",
        "    for batch in tqdm(loader, desc=\"Evaluation\"):\n",
        "      src, tgt = batch[0].to(device), batch[1].to(device)\n",
        "      outputs = model(src)\n",
        "\n",
        "      loss = criterion(outputs, tgt)\n",
        "      total_loss += loss.item()\n",
        "      accuracy = torch.sum((torch.argmax(outputs, dim=1) == tgt).int()).item() / len(tgt)\n",
        "      total_accuracy += accuracy\n",
        "\n",
        "  return total_loss / len(loader), total_accuracy / len(loader)"
      ],
      "metadata": {
        "id": "UUVNo9LP4D3j"
      },
      "execution_count": null,
      "outputs": []
    },
    {
      "cell_type": "code",
      "source": [
        "epochs = 2\n",
        "\n",
        "for epoch in range(epochs):\n",
        "  loss, acc = train(train_loader)\n",
        "  val_loss, val_acc = evaluate(valid_loader)\n",
        "\n",
        "  print(f\"Epoch: {epoch + 1} | loss: {loss:.3f} | acc: {acc:.3f} | val_loss: {val_loss:.3f} | val_acc: {val_acc:.3f}\")"
      ],
      "metadata": {
        "colab": {
          "base_uri": "https://localhost:8080/"
        },
        "id": "H7glu8BK4ieB",
        "outputId": "de4b31b4-4451-4165-d759-0adde6e11149"
      },
      "execution_count": null,
      "outputs": [
        {
          "output_type": "stream",
          "name": "stderr",
          "text": [
            "Training: 100%|██████████| 331/331 [06:45<00:00,  1.23s/it]\n",
            "Evaluation: 100%|██████████| 311/311 [00:51<00:00,  6.05it/s]\n"
          ]
        },
        {
          "output_type": "stream",
          "name": "stdout",
          "text": [
            "Epoch: 1 | loss: 0.392 | acc: 0.882 | val_loss: 0.324 | val_acc: 0.905\n"
          ]
        },
        {
          "output_type": "stream",
          "name": "stderr",
          "text": [
            "Training: 100%|██████████| 331/331 [06:45<00:00,  1.23s/it]\n",
            "Evaluation: 100%|██████████| 311/311 [00:52<00:00,  5.95it/s]"
          ]
        },
        {
          "output_type": "stream",
          "name": "stdout",
          "text": [
            "Epoch: 2 | loss: 0.387 | acc: 0.884 | val_loss: 0.320 | val_acc: 0.910\n"
          ]
        },
        {
          "output_type": "stream",
          "name": "stderr",
          "text": [
            "\n"
          ]
        }
      ]
    },
    {
      "cell_type": "code",
      "source": [
        "y_pred = []\n",
        "y_true = []\n",
        "\n",
        "model.eval()\n",
        "\n",
        "with torch.no_grad():\n",
        "  for batch in test_loader:\n",
        "    src, tgt = batch[0].to(device), batch[1].to(device)\n",
        "    outputs = model(src)\n",
        "    outputs = torch.argmax(outputs, dim=1)\n",
        "\n",
        "    y_pred.append(outputs)\n",
        "\n",
        "for batch in test_loader:\n",
        "    src, tgt = batch[0].to(device), batch[1].to(device)\n",
        "    y_true.append(tgt)\n",
        "\n",
        "preds = torch.cat(y_pred).cpu().detach().numpy()\n",
        "true = torch.cat(y_true).cpu().detach().numpy()"
      ],
      "metadata": {
        "id": "-vS1QjSDAD4x"
      },
      "execution_count": null,
      "outputs": []
    },
    {
      "cell_type": "code",
      "source": [
        "print(classification_report(true, preds))"
      ],
      "metadata": {
        "colab": {
          "base_uri": "https://localhost:8080/"
        },
        "id": "KfiBjd6JBUPB",
        "outputId": "624c971a-3ab7-49dc-93d6-34dfa8a64df1"
      },
      "execution_count": null,
      "outputs": [
        {
          "output_type": "stream",
          "name": "stdout",
          "text": [
            "              precision    recall  f1-score   support\n",
            "\n",
            "           0       0.94      0.75      0.83       165\n",
            "           1       0.86      0.86      0.86       207\n",
            "           2       0.89      0.80      0.84       185\n",
            "           3       0.86      0.89      0.88       194\n",
            "           4       0.88      0.81      0.85       220\n",
            "           5       0.90      0.86      0.88       406\n",
            "           6       0.88      0.91      0.90       408\n",
            "           7       0.91      0.93      0.92       445\n",
            "           8       0.85      0.70      0.77       172\n",
            "           9       0.78      0.39      0.52       155\n",
            "          10       0.75      0.94      0.84       371\n",
            "          11       0.85      0.77      0.81       402\n",
            "          12       0.94      0.86      0.89       203\n",
            "          13       0.95      0.89      0.92       191\n",
            "          14       0.60      0.84      0.70       161\n",
            "          15       0.92      0.85      0.88       412\n",
            "          16       0.94      0.87      0.91       195\n",
            "          17       0.90      0.93      0.91       408\n",
            "          18       0.76      0.93      0.83       405\n",
            "          19       0.87      0.86      0.86       402\n",
            "          20       0.90      0.89      0.90       396\n",
            "          21       0.91      0.92      0.92       399\n",
            "          22       0.94      0.88      0.91       396\n",
            "          23       0.96      0.94      0.95       406\n",
            "          24       0.86      0.95      0.90       212\n",
            "          25       0.94      0.95      0.94       394\n",
            "          26       0.94      0.95      0.95       411\n",
            "          27       0.85      0.91      0.88       405\n",
            "          28       0.84      0.80      0.82       193\n",
            "          29       0.90      0.91      0.90       424\n",
            "          30       0.84      0.85      0.85       425\n",
            "          31       0.90      0.90      0.90       165\n",
            "          32       0.95      0.86      0.90       206\n",
            "          33       0.91      0.97      0.94       419\n",
            "          34       0.94      0.94      0.94       418\n",
            "\n",
            "    accuracy                           0.88     10976\n",
            "   macro avg       0.88      0.86      0.87     10976\n",
            "weighted avg       0.89      0.88      0.88     10976\n",
            "\n"
          ]
        }
      ]
    },
    {
      "cell_type": "code",
      "source": [
        "def run_inference(idx, dataset=test_dataset):\n",
        "  model.eval()\n",
        "  with torch.no_grad():\n",
        "    sample = test_dataset[idx]\n",
        "    waveform, true_label = sample[0], sample[2]\n",
        "    spectrogram = transform_to_spectrogram(waveform).to(device)\n",
        "    pred_logits = model(spectrogram.unsqueeze(0))\n",
        "    pred_idx = torch.argmax(pred_logits, dim=1)\n",
        "    pred_label = labels_list[pred_idx.item()]\n",
        "\n",
        "  print(f\"Pred: {pred_label}, True: {true_label}\")"
      ],
      "metadata": {
        "id": "KWGBJaePYcsh"
      },
      "execution_count": null,
      "outputs": []
    },
    {
      "cell_type": "code",
      "source": [
        "idx = torch.randint(0, len(test_dataset), (1, ))\n",
        "\n",
        "run_inference(idx.item())"
      ],
      "metadata": {
        "colab": {
          "base_uri": "https://localhost:8080/"
        },
        "id": "fkdFdO7KZ4E6",
        "outputId": "4190b5f5-ae04-4b82-9711-e0f18089a2ef",
        "collapsed": true
      },
      "execution_count": null,
      "outputs": [
        {
          "output_type": "stream",
          "name": "stdout",
          "text": [
            "Pred: one, True: on\n"
          ]
        }
      ]
    }
  ]
}