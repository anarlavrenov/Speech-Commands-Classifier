{
  "nbformat": 4,
  "nbformat_minor": 0,
  "metadata": {
    "colab": {
      "provenance": [],
      "gpuType": "T4",
      "authorship_tag": "ABX9TyOiLtMaG9EJvSd4vZ24g1iC",
      "include_colab_link": true
    },
    "kernelspec": {
      "name": "python3",
      "display_name": "Python 3"
    },
    "language_info": {
      "name": "python"
    },
    "accelerator": "GPU"
  },
  "cells": [
    {
      "cell_type": "markdown",
      "metadata": {
        "id": "view-in-github",
        "colab_type": "text"
      },
      "source": [
        "<a href=\"https://colab.research.google.com/github/anarlavrenov/Speech-Commands-Classifier/blob/main/inference.ipynb\" target=\"_parent\"><img src=\"https://colab.research.google.com/assets/colab-badge.svg\" alt=\"Open In Colab\"/></a>"
      ]
    },
    {
      "cell_type": "code",
      "execution_count": null,
      "metadata": {
        "colab": {
          "base_uri": "https://localhost:8080/"
        },
        "id": "W_pAaID6ZoVZ",
        "outputId": "d488572d-10e8-4edf-eea5-5aad51d41503"
      },
      "outputs": [
        {
          "output_type": "stream",
          "name": "stdout",
          "text": [
            "Mounted at /content/drive\n"
          ]
        }
      ],
      "source": [
        "from google.colab import drive\n",
        "drive.mount(\"/content/drive\", force_remount=True)\n",
        "\n",
        "!pip install pydub\n",
        "\n",
        "import torch\n",
        "import torchaudio\n",
        "from IPython import display as ipd\n",
        "import sys\n",
        "import warnings\n",
        "\n",
        "warnings.filterwarnings(\"ignore\", category=UserWarning)\n",
        "device = \"cuda\" if torch.cuda.is_available() else \"cpu\""
      ]
    },
    {
      "cell_type": "code",
      "source": [
        "labels_list = ['backward', 'bed', 'bird', 'cat', 'dog', 'down', 'eight', 'five',\n",
        "          'follow', 'forward', 'four', 'go', 'happy', 'house', 'learn', 'left',\n",
        "          'marvin', 'nine', 'no', 'off', 'on', 'one', 'right', 'seven', 'sheila',\n",
        "          'six', 'stop', 'three', 'tree', 'two', 'up', 'visual', 'wow', 'yes', 'zero']"
      ],
      "metadata": {
        "id": "2JkqkEFCcWCh"
      },
      "execution_count": null,
      "outputs": []
    },
    {
      "cell_type": "code",
      "source": [
        "def transform_to_spectrogram(waveform):\n",
        "  waveform = torch.tensor(waveform, dtype=torch.float32)\n",
        "\n",
        "  if waveform.ndim > 1:\n",
        "    waveform = torch.squeeze(waveform, dim=0)\n",
        "\n",
        "  spectrogram = torchaudio.transforms.Spectrogram(\n",
        "      n_fft=384,\n",
        "      win_length=256,\n",
        "      hop_length=160,\n",
        "      power=None\n",
        "  )(waveform).transpose(1, 0)\n",
        "\n",
        "  spectrogram = torch.abs(spectrogram)\n",
        "  spectrogram = torch.pow(spectrogram, 0.5)\n",
        "\n",
        "  means = torch.mean(spectrogram, dim=1, keepdim=True)\n",
        "  stddevs = torch.std(spectrogram, dim=1, keepdim=True)\n",
        "  spectrogram = (spectrogram - means) / (stddevs + 1e-10)\n",
        "\n",
        "  return spectrogram\n",
        "\n",
        "def predict(model, waveform, sample_rate):\n",
        "  model.eval()\n",
        "  with torch.no_grad():\n",
        "    waveform = torchaudio.functional.resample(waveform, orig_freq=sample_rate, new_freq=16000)\n",
        "    spectrogram = transform_to_spectrogram(waveform).to(device)\n",
        "    pred_logits = model(spectrogram.unsqueeze(0))\n",
        "    pred_idx = torch.argmax(pred_logits, dim=1)\n",
        "    pred_label = labels_list[pred_idx.item()]\n",
        "\n",
        "    return pred_label"
      ],
      "metadata": {
        "id": "MRA4UTY-cL4X"
      },
      "execution_count": null,
      "outputs": []
    },
    {
      "cell_type": "code",
      "source": [
        "class EmotionClassifierModel(torch.nn.Module):\n",
        "  def __init__(self, output_dim, n_mels=193, n_classes=35):\n",
        "    super(EmotionClassifierModel, self).__init__()\n",
        "\n",
        "    self.conv_block1 = self.conv_block(\n",
        "        in_channels=1,\n",
        "        out_channels=32,\n",
        "        kernel_size=(11, 41),\n",
        "        stride=(2, 2),\n",
        "        padding=(5, 20),\n",
        "        dilation=1,\n",
        "        bias=False\n",
        "    )\n",
        "\n",
        "    self.conv_block2 = self.conv_block(\n",
        "        in_channels=32,\n",
        "        out_channels=32,\n",
        "        kernel_size=(11, 21),\n",
        "        stride=(1, 2),\n",
        "        padding=(5, 10),\n",
        "        dilation=1,\n",
        "        bias=False\n",
        "    )\n",
        "\n",
        "    self.linear_block1 = self.linear_block(\n",
        "        in_features=32 * 49,\n",
        "        out_features=output_dim,\n",
        "        activation=torch.nn.ReLU(),\n",
        "        dropout=True\n",
        "        )\n",
        "\n",
        "    self.linear_block2 = self.linear_block(\n",
        "        in_features=output_dim,\n",
        "        out_features=n_classes,\n",
        "        activation=None,\n",
        "        dropout=False\n",
        "        )\n",
        "\n",
        "  def forward(self, src):\n",
        "    src = torch.unsqueeze(src, 1)\n",
        "    src = self.conv_block1(src)\n",
        "    src = self.conv_block2(src)\n",
        "\n",
        "    src = src.permute(0, 2, 1, 3)\n",
        "\n",
        "    src = torch.mean(src, dim=1)\n",
        "    src = src.reshape(src.shape[0], src.shape[1] * src.shape[2])\n",
        "\n",
        "    src = self.linear_block1(src)\n",
        "    output = self.linear_block2(src)\n",
        "\n",
        "    return output\n",
        "\n",
        "  def conv_block(self, in_channels, out_channels,\n",
        "                 kernel_size, stride, padding, dilation, bias):\n",
        "    block = torch.nn.Sequential(\n",
        "            torch.nn.Conv2d(\n",
        "                in_channels, out_channels,\n",
        "                kernel_size, stride, padding, dilation, bias=bias\n",
        "            ),\n",
        "            torch.nn.BatchNorm2d(out_channels),\n",
        "            torch.nn.ReLU()\n",
        "    )\n",
        "\n",
        "    torch.nn.init.xavier_uniform_(\n",
        "        block[0].weight,\n",
        "        gain=torch.nn.init.calculate_gain(\"relu\"))\n",
        "\n",
        "    return block\n",
        "\n",
        "  def linear_block(self, in_features, out_features,\n",
        "                   activation=None, dropout=False):\n",
        "    block = torch.nn.Sequential(\n",
        "        torch.nn.Linear(in_features, out_features)\n",
        "    )\n",
        "\n",
        "    if activation is not None:\n",
        "      block.append(activation)\n",
        "    if dropout == True:\n",
        "      block.append(torch.nn.Dropout(0.5))\n",
        "\n",
        "    torch.nn.init.xavier_uniform_(\n",
        "        block[0].weight,\n",
        "        gain=torch.nn.init.calculate_gain(\"linear\"))\n",
        "\n",
        "    return block"
      ],
      "metadata": {
        "id": "n2UX8ELxaYkF"
      },
      "execution_count": null,
      "outputs": []
    },
    {
      "cell_type": "code",
      "source": [
        "def record(seconds=1):\n",
        "\n",
        "    from google.colab import output as colab_output\n",
        "    import sys\n",
        "    from base64 import b64decode\n",
        "    from io import BytesIO\n",
        "    from pydub import AudioSegment\n",
        "\n",
        "    RECORD = (\n",
        "        b\"const sleep  = time => new Promise(resolve => setTimeout(resolve, time))\\n\"\n",
        "        b\"const b2text = blob => new Promise(resolve => {\\n\"\n",
        "        b\"  const reader = new FileReader()\\n\"\n",
        "        b\"  reader.onloadend = e => resolve(e.srcElement.result)\\n\"\n",
        "        b\"  reader.readAsDataURL(blob)\\n\"\n",
        "        b\"})\\n\"\n",
        "        b\"var record = time => new Promise(async resolve => {\\n\"\n",
        "        b\"  stream = await navigator.mediaDevices.getUserMedia({ audio: true })\\n\"\n",
        "        b\"  recorder = new MediaRecorder(stream)\\n\"\n",
        "        b\"  chunks = []\\n\"\n",
        "        b\"  recorder.ondataavailable = e => chunks.push(e.data)\\n\"\n",
        "        b\"  recorder.start()\\n\"\n",
        "        b\"  await sleep(time)\\n\"\n",
        "        b\"  recorder.onstop = async ()=>{\\n\"\n",
        "        b\"    blob = new Blob(chunks)\\n\"\n",
        "        b\"    text = await b2text(blob)\\n\"\n",
        "        b\"    resolve(text)\\n\"\n",
        "        b\"  }\\n\"\n",
        "        b\"  recorder.stop()\\n\"\n",
        "        b\"})\"\n",
        "    )\n",
        "    RECORD = RECORD.decode(\"ascii\")\n",
        "\n",
        "    print(f\"Recording started for {seconds} seconds.\")\n",
        "    display(ipd.Javascript(RECORD))\n",
        "    s = colab_output.eval_js(\"record(%d)\" % (seconds * 1000))\n",
        "    print(\"Recording ended.\")\n",
        "    b = b64decode(s.split(\",\")[1])\n",
        "\n",
        "    fileformat = \"wav\"\n",
        "    filename = f\"_audio.{fileformat}\"\n",
        "    AudioSegment.from_file(BytesIO(b)).export(filename, format=fileformat)\n",
        "    return torchaudio.load(filename)"
      ],
      "metadata": {
        "id": "KSLKzAw6fVgq"
      },
      "execution_count": null,
      "outputs": []
    },
    {
      "cell_type": "code",
      "source": [
        "model = torch.load(\n",
        "    \"YOUR_PATH_TO_MODEL\",\n",
        "    map_location=\"cuda\"\n",
        "    )"
      ],
      "metadata": {
        "colab": {
          "base_uri": "https://localhost:8080/"
        },
        "collapsed": true,
        "id": "OofdPvuZZvQw",
        "outputId": "5e33db08-66a9-4dd6-ac1d-ed2b50842415"
      },
      "execution_count": null,
      "outputs": [
        {
          "output_type": "stream",
          "name": "stderr",
          "text": [
            "<ipython-input-4-6cb6b8b62f63>:1: FutureWarning: You are using `torch.load` with `weights_only=False` (the current default value), which uses the default pickle module implicitly. It is possible to construct malicious pickle data which will execute arbitrary code during unpickling (See https://github.com/pytorch/pytorch/blob/main/SECURITY.md#untrusted-models for more details). In a future release, the default value for `weights_only` will be flipped to `True`. This limits the functions that could be executed during unpickling. Arbitrary objects will no longer be allowed to be loaded via this mode unless they are explicitly allowlisted by the user via `torch.serialization.add_safe_globals`. We recommend you start setting `weights_only=True` for any use case where you don't have full control of the loaded file. Please open an issue on GitHub for any issues related to this experimental feature.\n",
            "  model = torch.load(\n"
          ]
        }
      ]
    },
    {
      "cell_type": "code",
      "source": [
        "if \"google.colab\" in sys.modules:\n",
        "    waveform, sample_rate = record()\n",
        "    label = predict(model, waveform, sample_rate)\n",
        "    print(f\"You said: {label}\")"
      ],
      "metadata": {
        "colab": {
          "base_uri": "https://localhost:8080/",
          "height": 124
        },
        "id": "_7-14rKNbLzy",
        "outputId": "6c4a3ab4-95d0-4001-935e-8a70d076c111"
      },
      "execution_count": null,
      "outputs": [
        {
          "output_type": "stream",
          "name": "stdout",
          "text": [
            "Recording started for 1 seconds.\n"
          ]
        },
        {
          "output_type": "display_data",
          "data": {
            "text/plain": [
              "<IPython.core.display.Javascript object>"
            ],
            "application/javascript": [
              "const sleep  = time => new Promise(resolve => setTimeout(resolve, time))\n",
              "const b2text = blob => new Promise(resolve => {\n",
              "  const reader = new FileReader()\n",
              "  reader.onloadend = e => resolve(e.srcElement.result)\n",
              "  reader.readAsDataURL(blob)\n",
              "})\n",
              "var record = time => new Promise(async resolve => {\n",
              "  stream = await navigator.mediaDevices.getUserMedia({ audio: true })\n",
              "  recorder = new MediaRecorder(stream)\n",
              "  chunks = []\n",
              "  recorder.ondataavailable = e => chunks.push(e.data)\n",
              "  recorder.start()\n",
              "  await sleep(time)\n",
              "  recorder.onstop = async ()=>{\n",
              "    blob = new Blob(chunks)\n",
              "    text = await b2text(blob)\n",
              "    resolve(text)\n",
              "  }\n",
              "  recorder.stop()\n",
              "})"
            ]
          },
          "metadata": {}
        },
        {
          "output_type": "stream",
          "name": "stdout",
          "text": [
            "Recording ended.\n",
            "left\n"
          ]
        },
        {
          "output_type": "stream",
          "name": "stderr",
          "text": [
            "<ipython-input-28-4c2d9345cb51>:2: UserWarning: To copy construct from a tensor, it is recommended to use sourceTensor.clone().detach() or sourceTensor.clone().detach().requires_grad_(True), rather than torch.tensor(sourceTensor).\n",
            "  waveform = torch.tensor(waveform, dtype=torch.float32)\n"
          ]
        }
      ]
    }
  ]
}